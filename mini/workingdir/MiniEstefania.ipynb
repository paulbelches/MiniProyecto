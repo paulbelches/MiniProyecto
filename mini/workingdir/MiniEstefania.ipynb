{
 "cells": [
  {
   "cell_type": "code",
   "execution_count": 35,
   "metadata": {},
   "outputs": [],
   "source": [
    "import numpy as np\n",
    "import math"
   ]
  },
  {
   "cell_type": "code",
   "execution_count": 71,
   "metadata": {},
   "outputs": [
    {
     "name": "stdout",
     "output_type": "stream",
     "text": [
      "Aplicando el metodo Montecarlo, con 100 iteraciones, la integral vale:1.5491115737699814.\n",
      " Aplicando el metodo Montecarlo, con 10000 iteraciones, la integral vale:1.7665207899425601. \n",
      " Aplicando el metodo Montecarlo, con 1000000 iteraciones, la integral vale:1.7915040485674358.\n"
     ]
    }
   ],
   "source": [
    "#Ejercicio 4\n",
    "def g(x):\n",
    "    a=math.exp(-x**2)\n",
    "    return a\n",
    "#transformando la integral\n",
    "def h(y):\n",
    "    b=g((1/y)-1)/y**2\n",
    "    return b\n",
    "cant=[100,10000,1000000]\n",
    "sum=0\n",
    "vals=[]\n",
    "\n",
    "for n in range(len(cant)):\n",
    "    for i in range(cant[n]):\n",
    "        sum=sum+h(np.random.random_sample())\n",
    "    e=2*sum/cant[n]\n",
    "    vals.append(e)\n",
    "print(\"Aplicando el metodo Montecarlo, con \"+str(cant[0])+\" iteraciones, la integral vale: \"+str(vals[0])+\".\\n\",\"Aplicando el metodo Montecarlo, con \"+str(cant[1])+\" iteraciones, la integral vale: \"+str(vals[1])+\". \\n\",\"Aplicando el metodo Montecarlo, con \"+str(cant[2])+\" iteraciones, la integral vale: \"+str(vals[2])+\".\")\n"
   ]
  },
  {
   "cell_type": "code",
   "execution_count": 72,
   "metadata": {},
   "outputs": [
    {
     "name": "stdout",
     "output_type": "stream",
     "text": [
      "Aplicando el metodo Montecarlo, con 100 iteraciones, la integral vale:0.5539694217451805.\n",
      " Aplicando el metodo Montecarlo, con 10000 iteraciones, la integral vale:0.5099366303810229. \n",
      " Aplicando el metodo Montecarlo, con 1000000 iteraciones, la integral vale:0.5046498531747985.\n"
     ]
    }
   ],
   "source": [
    "#Ejercicio 5\n",
    "def f(x,y):\n",
    "    a=math.exp(-(float(x)+float(y)))\n",
    "    return a\n",
    "#transformacion del limite de la primera integral (con respecto de y)\n",
    "def h(x,y2):\n",
    "    b=f(x,x*y2)*x\n",
    "    return b\n",
    "#transformacion del limite de la segunda integral (con respecto de x)\n",
    "def h2(x2,y2):\n",
    "    c=h((1/x2)-1,y2)/x2**2\n",
    "    return c\n",
    "cant=[100,10000,1000000]\n",
    "sum=0\n",
    "vals=[]\n",
    "for n in range(len(cant)):\n",
    "    for i in range(cant[n]):\n",
    "        sum=sum+h2(np.random.random_sample(),np.random.random_sample())\n",
    "    e=sum/cant[n]\n",
    "    vals.append(e)\n",
    "print(\"Aplicando el metodo Montecarlo, con \"+str(cant[0])+\" iteraciones, la integral vale: \"+str(vals[0])+\".\\n\",\"Aplicando el metodo Montecarlo, con \"+str(cant[1])+\" iteraciones, la integral vale: \"+str(vals[1])+\". \\n\",\"Aplicando el metodo Montecarlo, con \"+str(cant[2])+\" iteraciones, la integral vale: \"+str(vals[2])+\".\")\n"
   ]
  },
  {
   "cell_type": "code",
   "execution_count": null,
   "metadata": {},
   "outputs": [],
   "source": []
  }
 ],
 "metadata": {
  "kernelspec": {
   "display_name": "Python 3",
   "language": "python",
   "name": "python3"
  }
 },
 "nbformat": 4,
 "nbformat_minor": 4
}
