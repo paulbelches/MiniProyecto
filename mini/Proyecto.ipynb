{
 "cells": [
  {
   "cell_type": "code",
   "execution_count": 1,
   "metadata": {},
   "outputs": [],
   "source": [
    "import numpy as np\n",
    "import matplotlib.pyplot as plt"
   ]
  },
  {
   "cell_type": "code",
   "execution_count": 2,
   "metadata": {},
   "outputs": [],
   "source": [
    "np.random.seed(0)"
   ]
  },
  {
   "cell_type": "code",
   "execution_count": 3,
   "metadata": {},
   "outputs": [],
   "source": [
    "ranValues = np.random.rand(1000000).tolist()"
   ]
  },
  {
   "cell_type": "code",
   "execution_count": 4,
   "metadata": {},
   "outputs": [],
   "source": [
    "def shierpinski(x, y, randomValues):\n",
    "    p1, p2, p3 = 0.33, 0.33, 0.33\n",
    "    for i in range(len(randomValues)):\n",
    "        if (randomValues[i] < p1):\n",
    "            x.append(x[i]/2)\n",
    "            y.append(y[i]/2)\n",
    "        elif (randomValues[i] < p2 + p1):\n",
    "            x.append(x[i]/2 + 0.5)\n",
    "            y.append(y[i]/2)\n",
    "        else:\n",
    "            x.append(x[i]/2 + 0.25)\n",
    "            y.append(y[i]/2 + 0.5)\n",
    "    return x, y"
   ]
  },
  {
   "cell_type": "code",
   "execution_count": 5,
   "metadata": {},
   "outputs": [],
   "source": [
    "x, y = shierpinski([0],[0], ranValues)"
   ]
  },
  {
   "cell_type": "code",
   "execution_count": 6,
   "metadata": {},
   "outputs": [],
   "source": [
    "plt.rcParams['figure.figsize'] = [10, 8]"
   ]
  },
  {
   "cell_type": "code",
   "execution_count": 7,
   "metadata": {},
   "outputs": [
    {
     "data": {
      "text/plain": [
       "<matplotlib.collections.PathCollection at 0x7f79cd0468d0>"
      ]
     },
     "execution_count": 7,
     "metadata": {},
     "output_type": "execute_result"
    },
    {
     "data": {
      "image/png": "[encoded data removed]",
      "text/plain": [
       "<Figure size 720x576 with 1 Axes>"
      ]
     },
     "metadata": {
      "needs_background": "light"
     },
     "output_type": "display_data"
    }
   ],
   "source": [
    "plt.scatter(x, y, marker=1, color=\"red\")"
   ]
  },
  {
   "cell_type": "code",
   "execution_count": 8,
   "metadata": {},
   "outputs": [],
   "source": [
    "def barnsley(x, y, randomValues):\n",
    "    for i in range(len(randomValues)):\n",
    "        if (randomValues[i] < 0.85):\n",
    "            x.append(x[i]*0.85 + y[i]*0.04)\n",
    "            y.append(x[i]*-0.04 + y[i]*0.85 + 1.6)\n",
    "        elif (randomValues[i] < 0.92):\n",
    "            x.append(x[i]*-0.15 + y[i]*0.28)\n",
    "            y.append(x[i]*0.26 + y[i]*0.24 + 0.44)\n",
    "        elif (randomValues[i] < 0.99):\n",
    "            x.append(x[i]*0.2 + y[i]*-0.26)\n",
    "            y.append(x[i]*0.23 + y[i]*0.22 + 1.6)\n",
    "        else:\n",
    "            x.append(0)\n",
    "            y.append(y[i]*0.16)\n",
    "    return x, y"
   ]
  },
  {
   "cell_type": "code",
   "execution_count": 9,
   "metadata": {},
   "outputs": [],
   "source": [
    "x, y = barnsley([0],[0], ranValues)"
   ]
  },
  {
   "cell_type": "code",
   "execution_count": null,
   "metadata": {},
   "outputs": [],
   "source": [
    "plt.scatter(x, y, marker=1, color=\"green\")"
   ]
  },
  {
   "cell_type": "code",
   "execution_count": null,
   "metadata": {},
   "outputs": [],
   "source": [
    "def g1(n, x0 = 0):\n",
    "    x = [x0]\n",
    "    for i in range(n):\n",
    "        x.append((5**5)*x[i] % ((2**35)-1))\n",
    "        x[i] = x[i] / ((2**35)-1)\n",
    "    return x"
   ]
  },
  {
   "cell_type": "code",
   "execution_count": null,
   "metadata": {},
   "outputs": [],
   "source": [
    "def g2(n, x0 = 0):\n",
    "    x = [x0]\n",
    "    for i in range(n):\n",
    "        x.append((7**5)*x[i] % ((2**31)-1))\n",
    "        x[i] = x[i] / ((2**31)-1)\n",
    "    return x"
   ]
  },
  {
   "cell_type": "code",
   "execution_count": null,
   "metadata": {},
   "outputs": [],
   "source": [
    "def barra(n):\n",
    "    s = \"\"\n",
    "    for i in range(n):\n",
    "       s = s + '*'  \n",
    "    return s"
   ]
  },
  {
   "cell_type": "code",
   "execution_count": null,
   "metadata": {},
   "outputs": [],
   "source": [
    "def histogramas(ln):\n",
    "    intervalos = []\n",
    "    intervalos = np.zeros(10).tolist()\n",
    "    for i in ln:\n",
    "        if (i <= 0.1):\n",
    "            intervalos[0] += 1\n",
    "        elif (i <= 0.2):\n",
    "            intervalos[1] += 1\n",
    "        elif (i <= 0.3):\n",
    "            intervalos[2] += 1\n",
    "        elif (i <= 0.4):\n",
    "            intervalos[3] += 1\n",
    "        elif (i <= 0.5):\n",
    "            intervalos[4] += 1\n",
    "        elif (i <= 0.6):\n",
    "            intervalos[5] += 1\n",
    "        elif (i <= 0.7):\n",
    "            intervalos[6] += 1\n",
    "        elif (i <= 0.8):\n",
    "            intervalos[7] += 1\n",
    "        elif (i <= 0.9):\n",
    "            intervalos[8] += 1\n",
    "        elif (i <= 1):\n",
    "            intervalos[9] += 1\n",
    "    total = np.sum(intervalos)\n",
    "    intervalosp = []\n",
    "    for i in range(len(intervalos)):\n",
    "        intervalosp.append(round(intervalos[i]/total, 2))\n",
    "        print((i/10),(i+1)/10,\":\",barra((int)(intervalosp[i] * 500 //1)),intervalos[i], intervalosp[i] * 100 ,\"%\")\n",
    "    \n",
    "    "
   ]
  },
  {
   "cell_type": "code",
   "execution_count": null,
   "metadata": {},
   "outputs": [],
   "source": [
    "g1n = g1(100, 1)"
   ]
  },
  {
   "cell_type": "code",
   "execution_count": null,
   "metadata": {},
   "outputs": [],
   "source": [
    "g2n = g2(100, 1)"
   ]
  },
  {
   "cell_type": "code",
   "execution_count": null,
   "metadata": {
    "scrolled": false
   },
   "outputs": [],
   "source": [
    "histogramas(g1n)"
   ]
  },
  {
   "cell_type": "code",
   "execution_count": null,
   "metadata": {
    "scrolled": true
   },
   "outputs": [],
   "source": [
    "histogramas(g2n)"
   ]
  },
  {
   "cell_type": "code",
   "execution_count": null,
   "metadata": {
    "scrolled": false
   },
   "outputs": [],
   "source": [
    "histogramas(np.random.rand(100).tolist())"
   ]
  },
  {
   "cell_type": "code",
   "execution_count": null,
   "metadata": {},
   "outputs": [],
   "source": [
    "g1n = g1(5000, 1)"
   ]
  },
  {
   "cell_type": "code",
   "execution_count": null,
   "metadata": {},
   "outputs": [],
   "source": [
    "g2n = g2(5000, 1)"
   ]
  },
  {
   "cell_type": "code",
   "execution_count": null,
   "metadata": {},
   "outputs": [],
   "source": [
    "histogramas(g1n)"
   ]
  },
  {
   "cell_type": "code",
   "execution_count": null,
   "metadata": {},
   "outputs": [],
   "source": [
    "histogramas(g2n)"
   ]
  },
  {
   "cell_type": "code",
   "execution_count": null,
   "metadata": {},
   "outputs": [],
   "source": [
    "histogramas(np.random.rand(5000).tolist())"
   ]
  },
  {
   "cell_type": "code",
   "execution_count": null,
   "metadata": {},
   "outputs": [],
   "source": [
    "g1n = g1(100000, 1)"
   ]
  },
  {
   "cell_type": "code",
   "execution_count": null,
   "metadata": {},
   "outputs": [],
   "source": [
    "g2n = g2(100000, 1)"
   ]
  },
  {
   "cell_type": "code",
   "execution_count": null,
   "metadata": {},
   "outputs": [],
   "source": [
    "histogramas(g1n)"
   ]
  },
  {
   "cell_type": "code",
   "execution_count": null,
   "metadata": {},
   "outputs": [],
   "source": [
    "histogramas(g2n)"
   ]
  },
  {
   "cell_type": "code",
   "execution_count": null,
   "metadata": {},
   "outputs": [],
   "source": [
    "histogramas(np.random.rand(100000).tolist())"
   ]
  },
  {
   "cell_type": "code",
   "execution_count": 33,
   "metadata": {},
   "outputs": [],
   "source": [
    "import math"
   ]
  },
  {
   "cell_type": "code",
   "execution_count": 34,
   "metadata": {},
   "outputs": [
    {
     "name": "stdout",
     "output_type": "stream",
     "text": [
      "Aplicando el metodo Montecarlo, con 100 iteraciones, la integral vale: 1.9222343462613634.\n",
      " Aplicando el metodo Montecarlo, con 10000 iteraciones, la integral vale: 1.7985690096130886. \n",
      " Aplicando el metodo Montecarlo, con 1000000 iteraciones, la integral vale: 1.788620970929356.\n"
     ]
    }
   ],
   "source": [
    "#Ejercicio 4\n",
    "def g(x):\n",
    "    a=math.exp(-x**2)\n",
    "    return a\n",
    "#transformando la integral\n",
    "def h(y):\n",
    "    b=g((1/y)-1)/y**2\n",
    "    return b\n",
    "cant=[100,10000,1000000]\n",
    "sum=0\n",
    "vals=[]\n",
    "\n",
    "for n in range(len(cant)):\n",
    "    for i in range(cant[n]):\n",
    "        sum=sum+h(np.random.random_sample())\n",
    "    e=2*sum/cant[n]\n",
    "    vals.append(e)\n",
    "print(\"Aplicando el metodo Montecarlo, con \"+str(cant[0])+\" iteraciones, la integral vale: \"+str(vals[0])+\".\\n\",\"Aplicando el metodo Montecarlo, con \"+str(cant[1])+\" iteraciones, la integral vale: \"+str(vals[1])+\". \\n\",\"Aplicando el metodo Montecarlo, con \"+str(cant[2])+\" iteraciones, la integral vale: \"+str(vals[2])+\".\")\n"
   ]
  },
  {
   "cell_type": "code",
   "execution_count": 35,
   "metadata": {},
   "outputs": [
    {
     "name": "stdout",
     "output_type": "stream",
     "text": [
      "Aplicando el metodo Montecarlo, con 100 iteraciones, la integral vale: 0.4247272989810662.\n",
      " Aplicando el metodo Montecarlo, con 10000 iteraciones, la integral vale: 0.5029457816362556. \n",
      " Aplicando el metodo Montecarlo, con 1000000 iteraciones, la integral vale: 0.5047558887932749.\n"
     ]
    }
   ],
   "source": [
    "#Ejercicio 5\n",
    "def f(x,y):\n",
    "    a=math.exp(-(float(x)+float(y)))\n",
    "    return a\n",
    "#transformacion del limite de la primera integral (con respecto de y)\n",
    "def h(x,y2):\n",
    "    b=f(x,x*y2)*x\n",
    "    return b\n",
    "#transformacion del limite de la segunda integral (con respecto de x)\n",
    "def h2(x2,y2):\n",
    "    c=h((1/x2)-1,y2)/x2**2\n",
    "    return c\n",
    "cant=[100,10000,1000000]\n",
    "sum=0\n",
    "vals=[]\n",
    "for n in range(len(cant)):\n",
    "    for i in range(cant[n]):\n",
    "        sum=sum+h2(np.random.random_sample(),np.random.random_sample())\n",
    "    e=sum/cant[n]\n",
    "    vals.append(e)\n",
    "print(\"Aplicando el metodo Montecarlo, con \"+str(cant[0])+\" iteraciones, la integral vale: \"+str(vals[0])+\".\\n\",\"Aplicando el metodo Montecarlo, con \"+str(cant[1])+\" iteraciones, la integral vale: \"+str(vals[1])+\". \\n\",\"Aplicando el metodo Montecarlo, con \"+str(cant[2])+\" iteraciones, la integral vale: \"+str(vals[2])+\".\")\n"
   ]
  }
 ],
 "metadata": {
  "kernelspec": {
   "display_name": "Python 2",
   "language": "python",
   "name": "python2"
  },
  "language_info": {
   "codemirror_mode": {
    "name": "ipython",
    "version": 2
   },
   "file_extension": ".py",
   "mimetype": "text/x-python",
   "name": "python",
   "nbconvert_exporter": "python",
   "pygments_lexer": "ipython2",
   "version": "2.7.17"
  }
 },
 "nbformat": 4,
 "nbformat_minor": 4
}
